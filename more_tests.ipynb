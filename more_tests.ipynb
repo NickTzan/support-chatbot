{
 "cells": [
  {
   "cell_type": "code",
   "execution_count": 21,
   "metadata": {},
   "outputs": [],
   "source": [
    "import os\n",
    "import streamlit as st\n",
    "from dotenv import load_dotenv\n",
    "from langchain_groq import ChatGroq\n",
    "from langchain import PromptTemplate\n",
    "from langchain.vectorstores import Chroma\n",
    "from langchain.embeddings import HuggingFaceEmbeddings\n",
    "from langchain.text_splitter import RecursiveCharacterTextSplitter\n",
    "from langchain.document_loaders import DirectoryLoader, PyPDFLoader\n",
    "from langchain_community.document_loaders import SeleniumURLLoader, PyPDFLoader\n",
    "from langchain.chains import RetrievalQA\n",
    "\n",
    "load_dotenv()\n",
    "\n",
    "api_key = os.getenv('GROQ_API_KEY')"
   ]
  },
  {
   "cell_type": "code",
   "execution_count": 22,
   "metadata": {},
   "outputs": [],
   "source": [
    "def load_llm():\n",
    "    # load the llm from Groq\n",
    "    llm = ChatGroq(groq_api_key=api_key, model_name=\"llama3-70b-8192\", temperature=0)\n",
    "    return llm"
   ]
  },
  {
   "cell_type": "code",
   "execution_count": 23,
   "metadata": {},
   "outputs": [],
   "source": [
    "def load_vector_store(urls=None, path=None):\n",
    "\n",
    "    if path:\n",
    "        # load the pdf files\n",
    "        loader = DirectoryLoader(path='pdf', glob=\"*.pdf\", loader_cls=PyPDFLoader)\n",
    "        documents = loader.load()\n",
    "\n",
    "    if urls:\n",
    "        # scrape a url\n",
    "        loader = SeleniumURLLoader(urls=urls)\n",
    "        documents = loader.load()\n",
    "\n",
    "    # load the vector store\n",
    "    embeddings = HuggingFaceEmbeddings(\n",
    "        model_name=\"thenlper/gte-large\",\n",
    "        model_kwargs={\"device\": \"cpu\"},\n",
    "        encode_kwargs={\"normalize_embeddings\": True},\n",
    "    )\n",
    "\n",
    "    text_splitter = RecursiveCharacterTextSplitter(chunk_size=1024, chunk_overlap=64)\n",
    "    texts_chunks = text_splitter.split_documents(documents)\n",
    "\n",
    "    db = Chroma.from_documents(texts_chunks, embeddings, persist_directory=\"db\")\n",
    "    return db"
   ]
  },
  {
   "cell_type": "code",
   "execution_count": 24,
   "metadata": {},
   "outputs": [],
   "source": [
    "def load_prompt_template():\n",
    "\n",
    "    # prepare the template we will use when prompting the AI\n",
    "    template = \"\"\"Use the provided context to answer the user's question.\n",
    "    If you don't know the answer, respond with \"I do not know\".\n",
    "\n",
    "    Context: {context}\n",
    "    Question: {question}\n",
    "    Answer:\n",
    "    \"\"\"\n",
    "\n",
    "    prompt = PromptTemplate(\n",
    "    template=template,\n",
    "    input_variables=['context', 'question'])\n",
    "\n",
    "    return prompt "
   ]
  },
  {
   "cell_type": "code",
   "execution_count": 25,
   "metadata": {},
   "outputs": [],
   "source": [
    "def create_qa_chain(urls=None, path=None):\n",
    "\n",
    "    # load the llm, vector store, and the prompt\n",
    "    llm = load_llm()\n",
    "    db = load_vector_store(urls, path)\n",
    "    prompt = load_prompt_template()\n",
    "\n",
    "    # create the qa_chain\n",
    "    retriever = db.as_retriever(search_kwargs={'k': 2})\n",
    "    qa_chain = RetrievalQA.from_chain_type(llm=llm,\n",
    "                                        chain_type='stuff',\n",
    "                                        retriever=retriever,\n",
    "                                        return_source_documents=True,\n",
    "                                        chain_type_kwargs={'prompt': prompt})\n",
    "    \n",
    "    return qa_chain"
   ]
  },
  {
   "cell_type": "code",
   "execution_count": 26,
   "metadata": {},
   "outputs": [],
   "source": [
    "def generate_response(query, qa_chain):\n",
    "\n",
    "    # use the qa_chain to answer the given query\n",
    "    return qa_chain({'query':query})['result']"
   ]
  },
  {
   "cell_type": "code",
   "execution_count": 28,
   "metadata": {},
   "outputs": [],
   "source": [
    "path='pdf'\n",
    "\n",
    "qa_chain = create_qa_chain(urls=None, path=path)"
   ]
  },
  {
   "cell_type": "code",
   "execution_count": 30,
   "metadata": {},
   "outputs": [
    {
     "name": "stdout",
     "output_type": "stream",
     "text": [
      "According to the context, Q-learning becomes overoptimistic due to estimation errors. Specifically, if the action values contain random errors uniformly distributed in an interval [−ϵ,ϵ], each target is overestimated up to γϵm−1 / (m+1), where m is the number of actions. Additionally, noise in the environment can also lead to overestimations.\n"
     ]
    }
   ],
   "source": [
    "response = generate_response(query=\"Why does Q learning become overoptimistic in large-scale problems?\", qa_chain=qa_chain)\n",
    "print(response)"
   ]
  }
 ],
 "metadata": {
  "kernelspec": {
   "display_name": "venv",
   "language": "python",
   "name": "python3"
  },
  "language_info": {
   "codemirror_mode": {
    "name": "ipython",
    "version": 3
   },
   "file_extension": ".py",
   "mimetype": "text/x-python",
   "name": "python",
   "nbconvert_exporter": "python",
   "pygments_lexer": "ipython3",
   "version": "3.10.9"
  }
 },
 "nbformat": 4,
 "nbformat_minor": 2
}
